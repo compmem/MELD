{
 "cells": [
  {
   "cell_type": "code",
   "execution_count": 48,
   "metadata": {
    "collapsed": true,
    "scrolled": true
   },
   "outputs": [],
   "source": [
    "import nilearn\n",
    "from nilearn import image, datasets, plotting, masking\n",
    "from pathlib import Path\n",
    "import pandas as pd\n",
    "import numpy as np\n",
    "import meld\n",
    "from matplotlib import pyplot as plt\n",
    "from numba import jit\n",
    "from pathlib import Path\n",
    "import subprocess\n",
    "import os\n",
    "%matplotlib inline"
   ]
  },
  {
   "cell_type": "code",
   "execution_count": 49,
   "metadata": {},
   "outputs": [
    {
     "data": {
      "text/html": [
       "<style>.container { width:100% !important; }</style>"
      ],
      "text/plain": [
       "<IPython.core.display.HTML object>"
      ]
     },
     "metadata": {},
     "output_type": "display_data"
    }
   ],
   "source": [
    "from IPython.core.display import display, HTML\n",
    "display(HTML(\"<style>.container { width:100% !important; }</style>\"))\n",
    "pd.set_option('display.max_columns', 500)\n",
    "def run(command, env={}, shell=False):\n",
    "    merged_env = os.environ\n",
    "    merged_env.update(env)\n",
    "    process = subprocess.Popen(command, stdout=subprocess.PIPE,\n",
    "                               stderr=subprocess.STDOUT, shell=shell,\n",
    "                               env=merged_env)\n",
    "    while True:\n",
    "        line = process.stdout.readline()\n",
    "        line = str(line, 'utf-8')[:-1]\n",
    "        print(line)\n",
    "        if line == '' and process.poll() is not None:\n",
    "            break\n",
    "    if process.returncode != 0:\n",
    "        raise Exception(\"Non zero return code: %d\"%process.returncode)"
   ]
  },
  {
   "cell_type": "code",
   "execution_count": 50,
   "metadata": {
    "collapsed": true
   },
   "outputs": [],
   "source": [
    "base_dir = Path('../data/voice/')\n",
    "proc_dir = base_dir/'derivatives/afni_proc2'"
   ]
  },
  {
   "cell_type": "code",
   "execution_count": 51,
   "metadata": {
    "collapsed": true
   },
   "outputs": [],
   "source": [
    "bad_list = ['sub-007', 'sub-023', 'sub-072', 'sub-077', 'sub-137', 'sub-165', 'sub-045']"
   ]
  },
  {
   "cell_type": "code",
   "execution_count": 52,
   "metadata": {
    "scrolled": true
   },
   "outputs": [
    {
     "name": "stdout",
     "output_type": "stream",
     "text": [
      "sub-001\n",
      "sub-002\n",
      "sub-003\n",
      "sub-004\n",
      "sub-005\n",
      "sub-006\n",
      "sub-007\n",
      "sub-008\n",
      "sub-009\n",
      "sub-010\n",
      "sub-011\n",
      "sub-012\n",
      "sub-013\n",
      "sub-014\n",
      "sub-015\n",
      "sub-016\n",
      "sub-017\n",
      "sub-018\n",
      "sub-019\n",
      "sub-020\n",
      "sub-021\n",
      "sub-022\n",
      "sub-023\n",
      "sub-024\n",
      "sub-025\n",
      "sub-026\n",
      "sub-027\n",
      "sub-028\n",
      "sub-029\n",
      "sub-030\n",
      "sub-031\n",
      "sub-032\n",
      "sub-033\n",
      "sub-034\n",
      "sub-035\n",
      "sub-036\n",
      "sub-037\n",
      "sub-038\n",
      "sub-039\n",
      "sub-040\n",
      "sub-041\n",
      "sub-042\n",
      "sub-043\n",
      "sub-044\n",
      "sub-045\n",
      "sub-046\n",
      "sub-047\n",
      "sub-048\n",
      "sub-049\n",
      "sub-050\n",
      "sub-051\n",
      "sub-052\n",
      "sub-053\n",
      "sub-054\n",
      "sub-055\n",
      "sub-056\n",
      "sub-057\n",
      "sub-058\n",
      "sub-059\n",
      "sub-060\n",
      "sub-061\n",
      "sub-062\n",
      "sub-063\n",
      "sub-064\n",
      "sub-065\n",
      "sub-066\n",
      "sub-067\n",
      "sub-068\n",
      "sub-069\n",
      "sub-070\n",
      "sub-071\n",
      "sub-072\n",
      "sub-073\n",
      "sub-074\n",
      "sub-075\n",
      "sub-076\n",
      "sub-077\n",
      "sub-078\n",
      "sub-079\n",
      "sub-080\n",
      "sub-081\n",
      "sub-082\n",
      "sub-083\n",
      "sub-084\n",
      "sub-085\n",
      "sub-086\n",
      "sub-087\n",
      "sub-088\n",
      "sub-089\n",
      "sub-090\n",
      "sub-091\n",
      "sub-092\n",
      "sub-093\n",
      "sub-094\n",
      "sub-095\n",
      "sub-096\n",
      "sub-097\n",
      "sub-098\n",
      "sub-099\n",
      "sub-100\n",
      "sub-101\n",
      "sub-102\n",
      "sub-103\n",
      "sub-104\n",
      "sub-105\n",
      "sub-106\n",
      "sub-107\n",
      "sub-108\n",
      "sub-109\n",
      "sub-110\n",
      "sub-111\n",
      "sub-112\n",
      "sub-113\n",
      "sub-114\n",
      "sub-115\n",
      "sub-116\n",
      "sub-117\n",
      "sub-118\n",
      "sub-119\n",
      "sub-120\n",
      "sub-121\n",
      "sub-122\n",
      "sub-123\n",
      "sub-124\n",
      "sub-125\n",
      "sub-126\n",
      "sub-127\n",
      "sub-128\n",
      "sub-129\n",
      "sub-130\n",
      "sub-131\n",
      "sub-132\n",
      "sub-133\n",
      "sub-134\n",
      "sub-135\n",
      "sub-136\n",
      "sub-137\n",
      "sub-138\n",
      "sub-139\n",
      "sub-140\n",
      "sub-141\n",
      "sub-142\n",
      "sub-143\n",
      "sub-144\n",
      "sub-145\n",
      "sub-146\n",
      "sub-147\n",
      "sub-148\n",
      "sub-149\n",
      "sub-150\n",
      "sub-151\n",
      "sub-152\n",
      "sub-153\n",
      "sub-154\n",
      "sub-155\n",
      "sub-156\n",
      "sub-157\n",
      "sub-158\n",
      "sub-159\n",
      "sub-160\n",
      "sub-161\n",
      "sub-162\n",
      "sub-163\n",
      "sub-164\n",
      "sub-165\n",
      "sub-166\n",
      "sub-167\n",
      "sub-168\n",
      "sub-169\n",
      "sub-170\n",
      "sub-171\n",
      "sub-172\n",
      "sub-173\n",
      "sub-174\n",
      "sub-175\n",
      "sub-176\n",
      "sub-177\n",
      "sub-178\n",
      "sub-179\n",
      "sub-180\n",
      "sub-181\n",
      "sub-182\n",
      "sub-183\n",
      "sub-184\n",
      "sub-185\n",
      "sub-186\n",
      "sub-187\n",
      "sub-188\n",
      "sub-189\n",
      "sub-190\n",
      "sub-191\n",
      "sub-192\n",
      "sub-193\n",
      "sub-194\n",
      "sub-195\n",
      "sub-196\n",
      "sub-197\n",
      "sub-198\n",
      "sub-199\n",
      "sub-200\n",
      "sub-201\n",
      "sub-202\n",
      "sub-203\n",
      "sub-204\n",
      "sub-205\n",
      "sub-206\n",
      "sub-207\n",
      "sub-208\n",
      "sub-209\n",
      "sub-210\n",
      "sub-211\n",
      "sub-212\n",
      "sub-213\n",
      "sub-214\n",
      "sub-215\n",
      "sub-216\n",
      "sub-217\n"
     ]
    }
   ],
   "source": [
    "tmp_df = pd.read_csv('../data/voice/task-passivelistening_events.tsv', sep = '\\t')\n",
    "nrows = (len(sorted(proc_dir.glob('sub-*'))) - len(bad_list) )* len(tmp_df)\n",
    "#dat_ar = np.zeros((nrows, mask.shape[0]))\n",
    "\n",
    "bad_jj = []\n",
    "jj = 0\n",
    "dfs = []\n",
    "dat_list = []\n",
    "for sub_dir in sorted(proc_dir.glob('sub-*')):\n",
    "    sub = sub_dir.parts[-1]\n",
    "    print(sub)\n",
    "    if sub not in bad_list:\n",
    "        subn = sub_dir.parts[-1][4:]\n",
    "        stb_dir = sub_dir/'passivelistening/stb/'\n",
    "        tmp_df = pd.read_csv('../data/voice/task-passivelistening_events.tsv', sep = '\\t')\n",
    "        tmp_df.stimuli = tmp_df.stimuli.str.split('/').str[-1]\n",
    "        tmp_df['subject'] = sub\n",
    "        for ii in tmp_df.index:\n",
    "            ii_img = image.load_img((stb_dir/\"REML_{stim}_{n}.nii.gz\".format(stim = '_'.join(tmp_df.loc[ii,'stimuli'].split('_')[0:-1]), n = int(tmp_df.loc[ii,'stimuli'].split('_')[-1]))).as_posix())\n",
    "            ii_rs = image.resample_img(ii_img,target_affine= np.diag((4,4,4)))\n",
    "            try:\n",
    "                dat_list.append(ii_rs)\n",
    "            except:\n",
    "                bad_list.append(subj)\n",
    "                break\n",
    "            jj +=1\n",
    "            #print(ii, end = ' ')\n",
    "        dfs.append(tmp_df)\n",
    "        #print()\n"
   ]
  },
  {
   "cell_type": "code",
   "execution_count": 53,
   "metadata": {
    "collapsed": true
   },
   "outputs": [],
   "source": [
    "mask_path = '../data/voice/derivatives/afni_proc2/group_full_mask.nii.gz'\n",
    "mask_img = image.load_img(mask_path)\n",
    "mask_rs = image.resample_to_img(mask_img, dat_list[0], interpolation='nearest')\n",
    "mask = mask_rs.get_data().flatten().astype(bool)\n",
    "connectivity = meld.cluster.sparse_dim_connectivity([meld.cluster.simple_neighbors_1d(n)\n",
    "                                               for n in mask_rs.shape])"
   ]
  },
  {
   "cell_type": "code",
   "execution_count": 54,
   "metadata": {
    "collapsed": true
   },
   "outputs": [],
   "source": [
    "meta = pd.concat(dfs).reset_index(drop = True)"
   ]
  },
  {
   "cell_type": "code",
   "execution_count": 55,
   "metadata": {
    "collapsed": true
   },
   "outputs": [],
   "source": [
    "masked = masking.apply_mask(dat_list, mask_rs)"
   ]
  },
  {
   "cell_type": "code",
   "execution_count": 56,
   "metadata": {
    "collapsed": true
   },
   "outputs": [],
   "source": [
    "dat_ar = np.zeros((masked.shape[0], mask.shape[0]))"
   ]
  },
  {
   "cell_type": "code",
   "execution_count": 57,
   "metadata": {
    "collapsed": true
   },
   "outputs": [],
   "source": [
    "dat_ar[:,mask.astype(bool)] = masked"
   ]
  },
  {
   "cell_type": "code",
   "execution_count": 58,
   "metadata": {
    "scrolled": true
   },
   "outputs": [
    {
     "data": {
      "text/plain": [
       "<nilearn.plotting.displays.OrthoSlicer at 0x2aab84f3fcf8>"
      ]
     },
     "execution_count": 58,
     "metadata": {},
     "output_type": "execute_result"
    },
    {
     "data": {
      "image/png": "[encoded data removed]",
      "text/plain": [
       "<matplotlib.figure.Figure at 0x2ab0634b2eb8>"
      ]
     },
     "metadata": {},
     "output_type": "display_data"
    },
    {
     "data": {
      "image/png": "[encoded data removed]",
      "text/plain": [
       "<matplotlib.figure.Figure at 0x2ab0634c5dd8>"
      ]
     },
     "metadata": {},
     "output_type": "display_data"
    }
   ],
   "source": [
    "plotting.plot_img(mask_rs, cut_coords = (4, -70, 17) )\n",
    "plotting.plot_img(dat_list[0], cut_coords = (4, -70, 17))"
   ]
  },
  {
   "cell_type": "code",
   "execution_count": 59,
   "metadata": {
    "collapsed": true
   },
   "outputs": [],
   "source": [
    "outdir = base_dir/'derivatives/meld/'\n",
    "if not outdir.exists():\n",
    "    outdir.mkdir()\n",
    "run_n = 0\n",
    "\n",
    "subjects = None\n",
    "stimuli = None\n",
    "if subjects is None:\n",
    "    subjects = meta.subject.unique()\n",
    "else:\n",
    "    subjects = set(subjects.split(' '))\n",
    "if stimuli is None:\n",
    "    stimuli = meta.stimuli.unique()\n",
    "else:\n",
    "    stimuli = set(stimuli.split(' '))\n"
   ]
  },
  {
   "cell_type": "code",
   "execution_count": 63,
   "metadata": {
    "collapsed": true
   },
   "outputs": [],
   "source": [
    "keep_ind = (~meta['subject'].isin(bad_list)) & (meta['subject'].isin(subjects)) & (meta['stimuli'].isin(stimuli))\n",
    "meta = meta.loc[keep_ind,:].reset_index(drop = True)\n",
    "dep_data = dat_ar[keep_ind,:]\n",
    "# filter bad values in dep_data\n",
    "dep_data[dep_data > 100] = 100.\n",
    "dep_data[dep_data < -100] = -100.\n",
    "if len(dep_data) == 0:\n",
    "    raise Exception(\"No trials selected based on criteria.\" \\\n",
    "                    \" subjects = {subjects}, simuli = {stimuli}\".format(subjects= ' '.join(subjects),\n",
    "                                                                        stimuli= ' '.join(stimuli)))"
   ]
  },
  {
   "cell_type": "code",
   "execution_count": 64,
   "metadata": {
    "collapsed": true
   },
   "outputs": [],
   "source": [
    "meta['vocal'] = 0\n",
    "meta.loc[meta.trial_type == 'nonvocal', 'vocal'] = -1\n",
    "ind_data = meta.loc[:, ['subject','stimuli','vocal']]\n",
    "ind_data.columns = ['subj', 'item', 'vocal']\n",
    "ind_data['val'] = 0\n",
    "ind_data = ind_data.to_records(index = False)"
   ]
  },
  {
   "cell_type": "code",
   "execution_count": 65,
   "metadata": {},
   "outputs": [
    {
     "data": {
      "text/plain": [
       "((8400,), (8400, 139258), (139258, 139258), (139258,), 41850)"
      ]
     },
     "execution_count": 65,
     "metadata": {},
     "output_type": "execute_result"
    }
   ],
   "source": [
    "ind_data.shape, dep_data.shape, connectivity.shape, mask.shape, mask.sum()"
   ]
  },
  {
   "cell_type": "code",
   "execution_count": 66,
   "metadata": {
    "scrolled": false
   },
   "outputs": [
    {
     "name": "stdout",
     "output_type": "stream",
     "text": [
      "Initializing...Done (18 sec)\n",
      "Processing actual data...Done (7.8e+02 sec)\n"
     ]
    }
   ],
   "source": [
    "n_jobs = 32\n",
    "me_s = meld.meld.MELD('val ~ vocal', '(vocal|subj) + (1|item)', 'subj',\n",
    "                dep_data, ind_data, factors={'subj': None, 'item': None},\n",
    "                use_ranks=False,\n",
    "                feat_nboot=500, feat_thresh=0.05,\n",
    "                dep_mask = mask,\n",
    "                do_tfce=True,\n",
    "                connectivity=connectivity, #shape=img_dat.shape,\n",
    "                dt=.01, E=2/3., H=2.0,\n",
    "                n_jobs=n_jobs, verbose=10,\n",
    "                memmap=False\n",
    "               )"
   ]
  },
  {
   "cell_type": "code",
   "execution_count": 67,
   "metadata": {},
   "outputs": [
    {
     "name": "stdout",
     "output_type": "stream",
     "text": [
      "Running 100 permutations...\n"
     ]
    },
    {
     "name": "stderr",
     "output_type": "stream",
     "text": [
      "[Parallel(n_jobs=10)]: Done   3 out of 100 | elapsed: 21.5min remaining: 695.1min\n",
      "[Parallel(n_jobs=10)]: Done   1 out of 100 | elapsed: 21.5min remaining: 2130.0min\n",
      "[Parallel(n_jobs=10)]: Done  14 out of 100 | elapsed: 42.1min remaining: 258.3min\n",
      "[Parallel(n_jobs=10)]: Done  25 out of 100 | elapsed: 64.4min remaining: 193.3min\n",
      "[Parallel(n_jobs=10)]: Done  36 out of 100 | elapsed: 85.3min remaining: 151.7min\n",
      "[Parallel(n_jobs=10)]: Done  47 out of 100 | elapsed: 107.4min remaining: 121.1min\n",
      "[Parallel(n_jobs=10)]: Done  58 out of 100 | elapsed: 128.7min remaining: 93.2min\n",
      "[Parallel(n_jobs=10)]: Done  69 out of 100 | elapsed: 150.4min remaining: 67.6min\n",
      "[Parallel(n_jobs=10)]: Done  80 out of 100 | elapsed: 172.7min remaining: 43.2min\n",
      "[Parallel(n_jobs=10)]: Done  91 out of 100 | elapsed: 213.1min remaining: 21.1min\n",
      "[Parallel(n_jobs=10)]: Done 100 out of 100 | elapsed: 215.0min finished\n"
     ]
    },
    {
     "name": "stdout",
     "output_type": "stream",
     "text": [
      "Done (1.3e+04 sec)\n"
     ]
    }
   ],
   "source": [
    "me_s._n_jobs = 10\n",
    "me_s.run_perms(100)"
   ]
  },
  {
   "cell_type": "code",
   "execution_count": 68,
   "metadata": {
    "collapsed": true
   },
   "outputs": [],
   "source": [
    "# Write out results\n",
    "run_n = 1\n",
    "pfmasks = np.array(me_s._pfmask).transpose((1, 0, 2))\n",
    "t = me_s.get_t_features()\n",
    "t = np.array(t['vocal']).reshape(dat_list[0].shape)\n",
    "timg = image.new_img_like(dat_list[0], t)\n",
    "timg.to_filename((outdir/('run_%03d_t.nii.gz'%run_n)).as_posix())\n",
    "p = me_s.p_features\n",
    "p = np.array(me_s.p_features['vocal']).reshape(dat_list[0].shape)\n",
    "p_img = image.new_img_like(dat_list[0], t*(p<0.05))\n",
    "p_img.to_filename((outdir/('run_%03d_p.nii.gz'%run_n)).as_posix())\n",
    "t_thresh_img = image.new_img_like(dat_list[0], t*(p<0.05))\n",
    "t_thresh_img.to_filename((outdir/('run_%03d_t_thresh.nii.gz'%run_n)).as_posix())\n",
    "\n",
    "np.save((outdir/('run_%03d_tb.npy'%run_n)).as_posix(), np.concatenate(me_s._tb))"
   ]
  },
  {
   "cell_type": "code",
   "execution_count": 39,
   "metadata": {
    "collapsed": true
   },
   "outputs": [],
   "source": []
  },
  {
   "cell_type": "code",
   "execution_count": 26,
   "metadata": {},
   "outputs": [
    {
     "data": {
      "text/plain": [
       "'../data/voice/derivatives/meld'"
      ]
     },
     "execution_count": 26,
     "metadata": {},
     "output_type": "execute_result"
    }
   ],
   "source": []
  },
  {
   "cell_type": "code",
   "execution_count": 69,
   "metadata": {},
   "outputs": [
    {
     "data": {
      "text/plain": [
       "<nilearn.plotting.displays.OrthoSlicer at 0x2aab85470ac8>"
      ]
     },
     "execution_count": 69,
     "metadata": {},
     "output_type": "execute_result"
    },
    {
     "data": {
      "image/png": "[encoded data removed]",
      "text/plain": [
       "<matplotlib.figure.Figure at 0x2aab807b76d8>"
      ]
     },
     "metadata": {},
     "output_type": "display_data"
    },
    {
     "data": {
      "image/png": "[encoded data removed]",
      "text/plain": [
       "<matplotlib.figure.Figure at 0x2aab852d1be0>"
      ]
     },
     "metadata": {},
     "output_type": "display_data"
    }
   ],
   "source": [
    "plotting.plot_stat_map(timg)\n",
    "plotting.plot_stat_map(pimg)"
   ]
  },
  {
   "cell_type": "code",
   "execution_count": 36,
   "metadata": {
    "collapsed": true,
    "scrolled": true
   },
   "outputs": [],
   "source": [
    "re_group = 'subj'\n",
    "_groups = np.unique(ind_data[re_group])\n",
    "cep1"
   ]
  },
  {
   "cell_type": "code",
   "execution_count": 47,
   "metadata": {},
   "outputs": [
    {
     "name": "stdout",
     "output_type": "stream",
     "text": [
      "0.0\n",
      "0.0\n",
      "0.0\n",
      "0.0\n",
      "0.0\n",
      "0.0\n",
      "0.0\n",
      "0.0\n",
      "0.0\n",
      "0.0\n",
      "0.0\n",
      "0.0\n",
      "0.0\n",
      "0.0\n",
      "0.0\n",
      "0.0\n",
      "0.0\n",
      "0.0\n",
      "0.0\n",
      "0.0\n",
      "0.0\n",
      "0.0\n",
      "0.0\n",
      "0.0\n",
      "0.0\n",
      "0.0\n",
      "0.0\n",
      "0.0\n",
      "0.0\n",
      "0.0\n",
      "0.0\n",
      "0.0\n",
      "0.0\n",
      "0.0\n",
      "0.0\n",
      "0.0\n",
      "0.0\n",
      "0.0\n",
      "0.0\n",
      "0.0\n",
      "0.0\n",
      "0.0\n",
      "0.0\n",
      "0.0\n",
      "0.0\n",
      "0.0\n",
      "0.0\n",
      "0.0\n",
      "0.0\n",
      "0.0\n",
      "0.0\n",
      "0.0\n",
      "0.0\n",
      "0.0\n",
      "0.0\n",
      "0.0\n",
      "0.0\n",
      "0.0\n",
      "0.0\n",
      "0.0\n",
      "0.0\n",
      "0.0\n",
      "0.0\n",
      "0.0\n",
      "0.0\n",
      "0.0\n",
      "0.0\n",
      "0.0\n",
      "0.0\n",
      "0.0\n",
      "0.0\n",
      "0.0\n",
      "0.0\n",
      "0.0\n",
      "0.0\n",
      "0.0\n",
      "0.0\n",
      "0.0\n",
      "0.0\n",
      "0.0\n",
      "0.0\n",
      "0.0\n",
      "0.0\n",
      "0.0\n",
      "0.0\n",
      "0.0\n",
      "0.0\n",
      "0.0\n",
      "0.0\n",
      "0.0\n",
      "0.0\n",
      "0.0\n",
      "0.0\n",
      "0.0\n",
      "0.0\n",
      "0.0\n",
      "0.0\n",
      "0.0\n",
      "0.0\n",
      "0.0\n",
      "0.0\n",
      "0.0\n",
      "0.0\n",
      "0.0\n",
      "0.0\n",
      "0.0\n",
      "0.0\n",
      "0.0\n",
      "0.0\n",
      "0.0\n",
      "0.0\n",
      "0.0\n",
      "0.0\n",
      "0.0\n",
      "0.0\n",
      "0.0\n",
      "0.0\n",
      "0.0\n",
      "0.0\n",
      "0.0\n",
      "0.0\n",
      "0.0\n",
      "0.0\n",
      "0.0\n",
      "0.0\n",
      "0.0\n",
      "0.0\n",
      "0.0\n",
      "0.0\n",
      "0.0\n",
      "0.0\n",
      "0.0\n",
      "0.0\n",
      "0.0\n",
      "0.0\n",
      "0.0\n",
      "0.0\n",
      "0.0\n",
      "0.0\n",
      "0.0\n",
      "0.0\n",
      "0.0\n",
      "0.0\n",
      "0.0\n",
      "0.0\n",
      "0.0\n",
      "0.0\n",
      "0.0\n",
      "0.0\n",
      "0.0\n",
      "0.0\n",
      "0.0\n",
      "0.0\n",
      "0.0\n",
      "0.0\n",
      "0.0\n",
      "0.0\n",
      "0.0\n",
      "0.0\n",
      "0.0\n",
      "0.0\n",
      "0.0\n",
      "0.0\n",
      "0.0\n",
      "0.0\n",
      "0.0\n",
      "0.0\n",
      "0.0\n",
      "0.0\n",
      "0.0\n",
      "0.0\n",
      "0.0\n",
      "0.0\n",
      "0.0\n",
      "0.0\n",
      "0.0\n",
      "0.0\n",
      "0.0\n",
      "0.0\n",
      "0.0\n",
      "0.0\n",
      "0.0\n",
      "0.0\n",
      "0.0\n",
      "0.0\n",
      "0.0\n",
      "0.0\n",
      "0.0\n",
      "0.0\n",
      "0.0\n",
      "0.0\n",
      "0.0\n",
      "0.0\n",
      "0.0\n",
      "0.0\n",
      "0.0\n",
      "0.0\n",
      "0.0\n",
      "0.0\n",
      "0.0\n",
      "0.0\n",
      "0.0\n",
      "0.0\n",
      "0.0\n",
      "0.0\n",
      "0.0\n",
      "0.0\n",
      "0.0\n",
      "0.0\n",
      "0.0\n"
     ]
    }
   ],
   "source": [
    "_A = {}\n",
    "_M = {}\n",
    "_O = {}\n",
    "_D = {}\n",
    "O = []\n",
    "row_mask = None\n",
    "_feat_shape = None\n",
    "_dep_mask = mask\n",
    "_do_tfce = True\n",
    "_connectivity = connectivity\n",
    "\n",
    "for g in _groups:\n",
    "    # get that subj inds\n",
    "    if isinstance(ind_data, dict):\n",
    "        # the index is just the group into that dict\n",
    "        ind_ind = g\n",
    "    else:\n",
    "        # select the rows based on the group\n",
    "        ind_ind = ind_data[re_group] == g\n",
    "\n",
    "    # process the row mask\n",
    "    if row_mask is None:\n",
    "        # no mask, so all good\n",
    "        row_ind = np.ones(len(ind_data[ind_ind]), dtype=np.bool)\n",
    "    elif isinstance(row_mask, dict):\n",
    "        # pull the row_mask from the dict\n",
    "        row_ind = row_mask[g]\n",
    "    else:\n",
    "        # index into it with ind_ind\n",
    "        row_ind = row_mask[ind_ind]\n",
    "    _O[g] = ind_data[ind_ind][row_ind]\n",
    "    O.append(_O[g])\n",
    "    if isinstance(dep_data, dict):\n",
    "        # the index is just the group into that dict\n",
    "        dep_ind = g\n",
    "    else:\n",
    "        # select the rows based on the group\n",
    "        dep_ind = ind_ind\n",
    "    # save feature shape if necessary\n",
    "    if _feat_shape is None:\n",
    "        _feat_shape = dep_data[dep_ind].shape[1:]\n",
    "\n",
    "    # handle the mask\n",
    "    if _dep_mask is None:\n",
    "        _dep_mask = np.ones(self._feat_shape,\n",
    "                                 dtype=np.bool)\n",
    "\n",
    "    # create the connectivity (will mask later)\n",
    "    if _do_tfce and _connectivity is None and \\\n",
    "       (len(_dep_mask.flatten()) > _dep_mask.sum()):\n",
    "        # create the connectivity\n",
    "        _connectivity = cluster.sparse_dim_connectivity([cluster.simple_neighbors_1d(n)\n",
    "                                                              for n in _feat_shape])\n",
    "\n",
    "    # Save D index into data (apply row and feature masks\n",
    "    # This will also reshape it\n",
    "    _D[g] = dep_data[dep_ind][row_ind][:, _dep_mask].copy()\n",
    "    print(np.abs(_D[g]).sum())"
   ]
  },
  {
   "cell_type": "code",
   "execution_count": 56,
   "metadata": {},
   "outputs": [
    {
     "data": {
      "text/plain": [
       "array([[ 0.,  0.,  0., ...,  0.,  0.,  0.],\n",
       "       [ 0.,  0.,  0., ...,  0.,  0.,  0.],\n",
       "       [ 0.,  0.,  0., ...,  0.,  0.,  0.],\n",
       "       ..., \n",
       "       [ 0.,  0.,  0., ...,  0.,  0.,  0.],\n",
       "       [ 0.,  0.,  0., ...,  0.,  0.,  0.],\n",
       "       [ 0.,  0.,  0., ...,  0.,  0.,  0.]])"
      ]
     },
     "execution_count": 56,
     "metadata": {},
     "output_type": "execute_result"
    }
   ],
   "source": [
    "np.abs(dep_data[dep_ind][row_ind])[:,_dep_mask]"
   ]
  },
  {
   "cell_type": "code",
   "execution_count": 43,
   "metadata": {
    "collapsed": true
   },
   "outputs": [],
   "source": [
    "    # TODO: Make sure that there is still data in _D\n",
    "\n",
    "    # reshape it\n",
    "    #self._D[g] = self._D[g].reshape((self._D[g].shape[0], -1))\n",
    "    if use_ranks:\n",
    "        if verbose > 0:\n",
    "            sys.stdout.write('Ranking %s...' % (str(g)))\n",
    "            sys.stdout.flush()\n",
    "\n",
    "        for i in range(self._D[g].shape[1]):\n",
    "            # rank it\n",
    "            self._D[g][:, i] = rankdata(self._D[g][:, i])\n",
    "\n",
    "            # normalize it\n",
    "            self._D[g][:, i] = ((self._D[g][:, i] - 1) /\n",
    "                                (len(self._D[g][:, i]) - 1))"
   ]
  },
  {
   "cell_type": "code",
   "execution_count": 52,
   "metadata": {},
   "outputs": [
    {
     "ename": "NameError",
     "evalue": "name '_global_meld' is not defined",
     "output_type": "error",
     "traceback": [
      "\u001b[0;31m---------------------------------------------------------------------------\u001b[0m",
      "\u001b[0;31mNameError\u001b[0m                                 Traceback (most recent call last)",
      "\u001b[0;32m<ipython-input-52-19054f2ca5f6>\u001b[0m in \u001b[0;36m<module>\u001b[0;34m()\u001b[0m\n\u001b[0;32m----> 1\u001b[0;31m \u001b[0m_global_meld\u001b[0m\u001b[0;34m\u001b[0m\u001b[0m\n\u001b[0m",
      "\u001b[0;31mNameError\u001b[0m: name '_global_meld' is not defined"
     ]
    }
   ],
   "source": [
    "for g in self._groups:\n",
    "            # get that subj inds\n",
    "            if isinstance(ind_data, dict):\n",
    "                # the index is just the group into that dict\n",
    "                ind_ind = g\n",
    "            else:\n",
    "                # select the rows based on the group\n",
    "                ind_ind = ind_data[re_group] == g\n",
    "\n",
    "            # process the row mask\n",
    "            if row_mask is None:\n",
    "                # no mask, so all good\n",
    "                row_ind = np.ones(len(ind_data[ind_ind]), dtype=np.bool)\n",
    "            elif isinstance(row_mask, dict):\n",
    "                # pull the row_mask from the dict\n",
    "                row_ind = row_mask[g]\n",
    "            else:\n",
    "                # index into it with ind_ind\n",
    "                row_ind = row_mask[ind_ind]\n",
    "\n",
    "            # extract that group's A,M,O\n",
    "            # first save the observations (rows of A)\n",
    "            self._O[g] = ind_data[ind_ind][row_ind]\n",
    "            if use_ranks:\n",
    "                # loop over non-factors and rank them\n",
    "                for n in self._O[g].dtype.names:\n",
    "                    if (n in factors) or isinstance(self._O[g][n][0], str):\n",
    "                        continue\n",
    "                    self._O[g][n] = rankdata(self._O[g][n])\n",
    "            O.append(self._O[g])\n",
    "\n",
    "            # eventually allow for dict of data files for dep_data\n",
    "            if isinstance(dep_data, dict):\n",
    "                # the index is just the group into that dict\n",
    "                dep_ind = g\n",
    "            else:\n",
    "                # select the rows based on the group\n",
    "                dep_ind = ind_ind\n",
    "\n",
    "            # save feature shape if necessary\n",
    "            if self._feat_shape is None:\n",
    "                self._feat_shape = dep_data[dep_ind].shape[1:]\n",
    "\n",
    "            # handle the mask\n",
    "            if self._dep_mask is None:\n",
    "                self._dep_mask = np.ones(self._feat_shape,\n",
    "                                         dtype=np.bool)\n",
    "\n",
    "            # create the connectivity (will mask later)\n",
    "            if self._do_tfce and self._connectivity is None and \\\n",
    "               (len(self._dep_mask.flatten()) > self._dep_mask.sum()):\n",
    "                # create the connectivity\n",
    "                self._connectivity = cluster.sparse_dim_connectivity([cluster.simple_neighbors_1d(n)\n",
    "                                                                      for n in self._feat_shape])\n",
    "\n",
    "            # Save D index into data (apply row and feature masks\n",
    "            # This will also reshape it\n",
    "            self._D[g] = dep_data[dep_ind][row_ind][:, self._dep_mask].copy()\n",
    "\n",
    "            # TODO: Make sure that there is still data in _D\n",
    "\n",
    "            # reshape it\n",
    "            #self._D[g] = self._D[g].reshape((self._D[g].shape[0], -1))\n",
    "            if use_ranks:\n",
    "                if verbose > 0:\n",
    "                    sys.stdout.write('Ranking %s...' % (str(g)))\n",
    "                    sys.stdout.flush()\n",
    "\n",
    "                for i in range(self._D[g].shape[1]):\n",
    "                    # rank it\n",
    "                    self._D[g][:, i] = rankdata(self._D[g][:, i])\n",
    "\n",
    "                    # normalize it\n",
    "                    self._D[g][:, i] = ((self._D[g][:, i] - 1) /\n",
    "                                        (len(self._D[g][:, i]) - 1))\n",
    "\n",
    "            # save M from D so we can have a normalized version\n",
    "            self._M[g] = self._D[g].copy()\n",
    "\n",
    "            # remove any NaN's in dep_data\n",
    "            self._D[g][np.isnan(self._D[g])] = 0.0\n",
    "\n",
    "            # normalize M\n",
    "            if use_norm:\n",
    "                self._M[g] -= self._M[g].mean(0)\n",
    "                self._M[g] /= np.sqrt((self._M[g]**2).sum(0))\n",
    "\n",
    "            # determine A from the model.matrix\n",
    "            rdf = DataFrame({k: (FactorVector(self._O[g][k])\n",
    "                                 if k in factors else self._O[g][k])\n",
    "                             for k in self._O[g].dtype.names})\n",
    "\n",
    "            # model spec as data frame\n",
    "            ms = r['data.frame'](r_model_matrix(Formula(fe_formula), data=rdf))\n",
    "\n",
    "            cols = list(r['names'](ms))\n",
    "            if svd_terms is None:\n",
    "                self._svd_terms = [c for c in cols\n",
    "                                   if 'Intercept' not in c]\n",
    "            else:\n",
    "                self._svd_terms = svd_terms\n",
    "\n",
    "            # self._A[g] = np.vstack([ms[c] #np.array(ms.rx(c))\n",
    "            self._A[g] = np.concatenate([np.array(ms.rx(c))\n",
    "                                         for c in self._svd_terms]).T\n",
    "\n",
    "            if use_ranks:\n",
    "                for i in range(self._A[g].shape[1]):\n",
    "                    # rank it\n",
    "                    self._A[g][:, i] = rankdata(self._A[g][:, i])\n",
    "\n",
    "                    # normalize it\n",
    "                    self._A[g][:, i] = ((self._A[g][:, i] - 1) /\n",
    "                                        (len(self._A[g][:, i]) - 1))\n",
    "\n",
    "            # normalize A\n",
    "            if True:  # use_norm:\n",
    "                self._A[g] -= self._A[g].mean(0)\n",
    "                if not ((self._A[g].max() == self._A[g].min()) & (self._A[g].min() == 0)):\n",
    "                    self._A[g] /= np.sqrt((self._A[g]**2).sum(0))\n",
    "\n",
    "            # memmap if desired\n",
    "            if self._memmap:\n",
    "                self._M[g] = _memmap_array(self._M[g], memmap_dir,\n",
    "                                           unique_id=str(g))\n",
    "                self._D[g] = _memmap_array(self._D[g], memmap_dir,\n",
    "                                           unique_id=str(g))"
   ]
  },
  {
   "cell_type": "code",
   "execution_count": 25,
   "metadata": {},
   "outputs": [
    {
     "data": {
      "text/plain": [
       "[<matplotlib.lines.Line2D at 0x2abf9a5fbf98>]"
      ]
     },
     "execution_count": 25,
     "metadata": {},
     "output_type": "execute_result"
    },
    {
     "data": {
      "image/png": "[encoded data removed]",
      "text/plain": [
       "<matplotlib.figure.Figure at 0x2abf9a4b7a58>"
      ]
     },
     "metadata": {},
     "output_type": "display_data"
    }
   ],
   "source": [
    "plt.plot(dep_data.max(1))"
   ]
  },
  {
   "cell_type": "code",
   "execution_count": null,
   "metadata": {
    "collapsed": true
   },
   "outputs": [],
   "source": []
  }
 ],
 "metadata": {
  "kernelspec": {
   "display_name": "Python 3",
   "language": "python",
   "name": "python3"
  },
  "language_info": {
   "codemirror_mode": {
    "name": "ipython",
    "version": 3
   },
   "file_extension": ".py",
   "mimetype": "text/x-python",
   "name": "python",
   "nbconvert_exporter": "python",
   "pygments_lexer": "ipython3",
   "version": "3.6.3"
  }
 },
 "nbformat": 4,
 "nbformat_minor": 2
}
